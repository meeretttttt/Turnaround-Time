{
 "cells": [
  {
   "cell_type": "code",
   "execution_count": 9,
   "metadata": {},
   "outputs": [
    {
     "name": "stdout",
     "output_type": "stream",
     "text": [
      "<class 'pandas.core.frame.DataFrame'>\n",
      "RangeIndex: 1 entries, 0 to 0\n",
      "Data columns (total 11 columns):\n",
      " #   Column                         Non-Null Count  Dtype         \n",
      "---  ------                         --------------  -----         \n",
      " 0   Probennummer                   1 non-null      int64         \n",
      " 1   Analyt                         1 non-null      object        \n",
      " 2   Erfassung der Anforderung      1 non-null      datetime64[ns]\n",
      " 3   Probenverteilung               1 non-null      datetime64[ns]\n",
      " 4   Proben auf Strasse             1 non-null      datetime64[ns]\n",
      " 5   Zentrifugation                 1 non-null      datetime64[ns]\n",
      " 6   Analyten werden gemessen       1 non-null      datetime64[ns]\n",
      " 7   Resultate werden übermittel    1 non-null      datetime64[ns]\n",
      " 8   Technische Validation          1 non-null      datetime64[ns]\n",
      " 9   Medizinische Validation        1 non-null      datetime64[ns]\n",
      " 10  Erstellen & Versenden Bericht  1 non-null      datetime64[ns]\n",
      "dtypes: datetime64[ns](9), int64(1), object(1)\n",
      "memory usage: 220.0+ bytes\n"
     ]
    }
   ],
   "source": [
    "import pandas as pd\n",
    "from datetime import datetime\n",
    "import matplotlib.pyplot as plt\n",
    "import seaborn as sns\n",
    "import streamlit as st\n",
    "\n",
    "# Load the data from the csv file, and parse the dates to datetime format\n",
    "df_TAT = pd.read_csv(\"Daten CSV.csv\", sep = \";\", parse_dates=[\"Erfassung der Anforderung\", \"Probenverteilung\", \"Proben auf Strasse\", \n",
    "    \"Zentrifugation\", \"Analyten werden gemessen\", \"Resultate werden übermittel\", \n",
    "    \"Technische Validation\", \"Medizinische Validation\", \"Erstellen & Versenden Bericht\"\n",
    "]) \n",
    "df_TAT.head()\n",
    "df_TAT.info()\n"
   ]
  },
  {
   "cell_type": "code",
   "execution_count": 12,
   "metadata": {},
   "outputs": [
    {
     "data": {
      "text/html": [
       "<div>\n",
       "<style scoped>\n",
       "    .dataframe tbody tr th:only-of-type {\n",
       "        vertical-align: middle;\n",
       "    }\n",
       "\n",
       "    .dataframe tbody tr th {\n",
       "        vertical-align: top;\n",
       "    }\n",
       "\n",
       "    .dataframe thead th {\n",
       "        text-align: right;\n",
       "    }\n",
       "</style>\n",
       "<table border=\"1\" class=\"dataframe\">\n",
       "  <thead>\n",
       "    <tr style=\"text-align: right;\">\n",
       "      <th></th>\n",
       "      <th>Probennummer</th>\n",
       "      <th>Analyt</th>\n",
       "      <th>Erfassung der Anforderung</th>\n",
       "      <th>Probenverteilung</th>\n",
       "      <th>Proben auf Strasse</th>\n",
       "      <th>Zentrifugation</th>\n",
       "      <th>Zentrifugation Ende</th>\n",
       "      <th>Analyten werden gemessen</th>\n",
       "      <th>Resultate werden übermittel</th>\n",
       "      <th>Technische Validation</th>\n",
       "      <th>Medizinische Validation</th>\n",
       "      <th>Erstellen &amp; Versenden Bericht</th>\n",
       "    </tr>\n",
       "  </thead>\n",
       "  <tbody>\n",
       "    <tr>\n",
       "      <th>0</th>\n",
       "      <td>2211334401</td>\n",
       "      <td>Troponin</td>\n",
       "      <td>2024-10-01 08:40:00</td>\n",
       "      <td>2024-10-01 13:30:00</td>\n",
       "      <td>2024-10-01 14:05:00</td>\n",
       "      <td>2024-10-01 14:18:00</td>\n",
       "      <td>2024-10-01 14:25:00</td>\n",
       "      <td>2024-10-01 14:27:00</td>\n",
       "      <td>2024-10-01 15:10:00</td>\n",
       "      <td>2024-10-01 15:28:00</td>\n",
       "      <td>2024-10-01 15:49:00</td>\n",
       "      <td>2024-10-01 16:20:00</td>\n",
       "    </tr>\n",
       "  </tbody>\n",
       "</table>\n",
       "</div>"
      ],
      "text/plain": [
       "   Probennummer    Analyt Erfassung der Anforderung    Probenverteilung  \\\n",
       "0    2211334401  Troponin       2024-10-01 08:40:00 2024-10-01 13:30:00   \n",
       "\n",
       "   Proben auf Strasse      Zentrifugation Zentrifugation Ende  \\\n",
       "0 2024-10-01 14:05:00 2024-10-01 14:18:00 2024-10-01 14:25:00   \n",
       "\n",
       "  Analyten werden gemessen Resultate werden übermittel Technische Validation  \\\n",
       "0      2024-10-01 14:27:00         2024-10-01 15:10:00   2024-10-01 15:28:00   \n",
       "\n",
       "  Medizinische Validation Erstellen & Versenden Bericht  \n",
       "0     2024-10-01 15:49:00           2024-10-01 16:20:00  "
      ]
     },
     "execution_count": 12,
     "metadata": {},
     "output_type": "execute_result"
    }
   ],
   "source": [
    "# Add 7 minutes to \"Zentrifugation\" column to create \"Zentrifugation Ende\"\n",
    "df_TAT['Zentrifugation Ende'] = df_TAT['Zentrifugation'] + pd.Timedelta(minutes=7)\n",
    "# Rearrange columns to place \"Zentrifugation Ende\" after \"Zentrifugation\"\n",
    "cols = df_TAT.columns.tolist()\n",
    "zentrifugation_index = cols.index('Zentrifugation')\n",
    "cols.insert(zentrifugation_index + 1, cols.pop(cols.index('Zentrifugation Ende')))\n",
    "df_TAT = df_TAT[cols]\n",
    "df_TAT.head()\n"
   ]
  },
  {
   "cell_type": "code",
   "execution_count": 10,
   "metadata": {},
   "outputs": [
    {
     "name": "stdout",
     "output_type": "stream",
     "text": [
      "Präanalytische Phase:\n",
      "  - Erfassung der Anforderung\n",
      "  - Probenverteilung\n",
      "  - Proben auf Strasse\n",
      "  - Zentrifugation\n",
      "Analytische Phase:\n",
      "  - Analyten werden gemessen\n",
      "  - Resultate werden übermittel\n",
      "Postanalytische Phase:\n",
      "  - Technische Validation\n",
      "  - Medizinische Validation\n",
      "  - Erstellen & Versenden Bericht\n"
     ]
    }
   ],
   "source": [
    "phases = {\n",
    "    \"Präanalytische Phase\": [\"Erfassung der Anforderung\", \"Probenverteilung\", \"Proben auf Strasse\",\"Zentrifugation\", \"Zentrifugation Ende\"],\n",
    "    \"Analytische Phase\": [\"Analyten werden gemessen\", \"Resultate werden übermittelt\"],\n",
    "    \"Postanalytische Phase\": [\"Technische Validation\",\"Medizinische Validation\", \"Erstellen & Versenden Bericht\"]\n",
    "}\n",
    "\n",
    "# Example of accessing the data structure\n",
    "for phase, checkpoints in phases.items():\n",
    "    print(f\"{phase}:\")\n",
    "    for checkpoint in checkpoints:\n",
    "        print(f\"  - {checkpoint}\")"
   ]
  },
  {
   "cell_type": "code",
   "execution_count": 13,
   "metadata": {},
   "outputs": [
    {
     "data": {
      "text/html": [
       "<div>\n",
       "<style scoped>\n",
       "    .dataframe tbody tr th:only-of-type {\n",
       "        vertical-align: middle;\n",
       "    }\n",
       "\n",
       "    .dataframe tbody tr th {\n",
       "        vertical-align: top;\n",
       "    }\n",
       "\n",
       "    .dataframe thead th {\n",
       "        text-align: right;\n",
       "    }\n",
       "</style>\n",
       "<table border=\"1\" class=\"dataframe\">\n",
       "  <thead>\n",
       "    <tr style=\"text-align: right;\">\n",
       "      <th></th>\n",
       "      <th>Probennummer</th>\n",
       "      <th>Analyt</th>\n",
       "      <th>Erfassung der Anforderung</th>\n",
       "      <th>Probenverteilung</th>\n",
       "      <th>Proben auf Strasse</th>\n",
       "      <th>Zentrifugation</th>\n",
       "      <th>Zentrifugation Ende</th>\n",
       "      <th>Analyten werden gemessen</th>\n",
       "      <th>Resultate werden übermittel</th>\n",
       "      <th>Technische Validation</th>\n",
       "      <th>Medizinische Validation</th>\n",
       "      <th>Erstellen &amp; Versenden Bericht</th>\n",
       "      <th>Präanalytische Phase</th>\n",
       "      <th>Analytische Phase</th>\n",
       "      <th>Postanalytische Phase</th>\n",
       "    </tr>\n",
       "  </thead>\n",
       "  <tbody>\n",
       "    <tr>\n",
       "      <th>0</th>\n",
       "      <td>2211334401</td>\n",
       "      <td>Troponin</td>\n",
       "      <td>2024-10-01 08:40:00</td>\n",
       "      <td>2024-10-01 13:30:00</td>\n",
       "      <td>2024-10-01 14:05:00</td>\n",
       "      <td>2024-10-01 14:18:00</td>\n",
       "      <td>2024-10-01 14:25:00</td>\n",
       "      <td>2024-10-01 14:27:00</td>\n",
       "      <td>2024-10-01 15:10:00</td>\n",
       "      <td>2024-10-01 15:28:00</td>\n",
       "      <td>2024-10-01 15:49:00</td>\n",
       "      <td>2024-10-01 16:20:00</td>\n",
       "      <td>0 days 05:38:00</td>\n",
       "      <td>0 days 00:43:00</td>\n",
       "      <td>0 days 00:52:00</td>\n",
       "    </tr>\n",
       "  </tbody>\n",
       "</table>\n",
       "</div>"
      ],
      "text/plain": [
       "   Probennummer    Analyt Erfassung der Anforderung    Probenverteilung  \\\n",
       "0    2211334401  Troponin       2024-10-01 08:40:00 2024-10-01 13:30:00   \n",
       "\n",
       "   Proben auf Strasse      Zentrifugation Zentrifugation Ende  \\\n",
       "0 2024-10-01 14:05:00 2024-10-01 14:18:00 2024-10-01 14:25:00   \n",
       "\n",
       "  Analyten werden gemessen Resultate werden übermittel Technische Validation  \\\n",
       "0      2024-10-01 14:27:00         2024-10-01 15:10:00   2024-10-01 15:28:00   \n",
       "\n",
       "  Medizinische Validation Erstellen & Versenden Bericht Präanalytische Phase  \\\n",
       "0     2024-10-01 15:49:00           2024-10-01 16:20:00      0 days 05:38:00   \n",
       "\n",
       "  Analytische Phase Postanalytische Phase  \n",
       "0   0 days 00:43:00       0 days 00:52:00  "
      ]
     },
     "execution_count": 13,
     "metadata": {},
     "output_type": "execute_result"
    }
   ],
   "source": [
    "for phase, checkpoints in phases.items():\n",
    "    # Calculate the time difference between \"Erfassung der Anforderung\" and \"Zentrifugation Ende\"\n",
    "    df_TAT[f\"{phase}\"] = df_TAT[checkpoints[-1]] - df_TAT[checkpoints[0]]\n",
    "\n",
    "df_TAT.head()\n"
   ]
  }
 ],
 "metadata": {
  "kernelspec": {
   "display_name": "base",
   "language": "python",
   "name": "python3"
  },
  "language_info": {
   "codemirror_mode": {
    "name": "ipython",
    "version": 3
   },
   "file_extension": ".py",
   "mimetype": "text/x-python",
   "name": "python",
   "nbconvert_exporter": "python",
   "pygments_lexer": "ipython3",
   "version": "3.11.10"
  }
 },
 "nbformat": 4,
 "nbformat_minor": 2
}
