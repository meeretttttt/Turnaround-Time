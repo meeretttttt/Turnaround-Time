{
 "cells": [
  {
   "cell_type": "code",
   "execution_count": 9,
   "metadata": {},
   "outputs": [
    {
     "name": "stdout",
     "output_type": "stream",
     "text": [
      "<class 'pandas.core.frame.DataFrame'>\n",
      "RangeIndex: 1 entries, 0 to 0\n",
      "Data columns (total 11 columns):\n",
      " #   Column                         Non-Null Count  Dtype         \n",
      "---  ------                         --------------  -----         \n",
      " 0   Probennummer                   1 non-null      int64         \n",
      " 1   Analyt                         1 non-null      object        \n",
      " 2   Erfassung der Anforderung      1 non-null      datetime64[ns]\n",
      " 3   Probenverteilung               1 non-null      datetime64[ns]\n",
      " 4   Proben auf Strasse             1 non-null      datetime64[ns]\n",
      " 5   Zentrifugation                 1 non-null      datetime64[ns]\n",
      " 6   Analyten werden gemessen       1 non-null      datetime64[ns]\n",
      " 7   Resultate werden übermittel    1 non-null      datetime64[ns]\n",
      " 8   Technische Validation          1 non-null      datetime64[ns]\n",
      " 9   Medizinische Validation        1 non-null      datetime64[ns]\n",
      " 10  Erstellen & Versenden Bericht  1 non-null      datetime64[ns]\n",
      "dtypes: datetime64[ns](9), int64(1), object(1)\n",
      "memory usage: 220.0+ bytes\n"
     ]
    }
   ],
   "source": [
    "import pandas as pd\n",
    "from datetime import datetime\n",
    "import matplotlib.pyplot as plt\n",
    "import seaborn as sns\n",
    "import streamlit as st\n",
    "\n",
    "# Load the data from the csv file, and parse the dates to datetime format\n",
    "df_TAT = pd.read_csv(\"Daten CSV.csv\", sep = \";\", parse_dates=[\"Erfassung der Anforderung\", \"Probenverteilung\", \"Proben auf Strasse\", \n",
    "    \"Zentrifugation\", \"Analyten werden gemessen\", \"Resultate werden übermittel\", \n",
    "    \"Technische Validation\", \"Medizinische Validation\", \"Erstellen & Versenden Bericht\"\n",
    "]) \n",
    "df_TAT.head()\n",
    "df_TAT.info()\n"
   ]
  }
 ],
 "metadata": {
  "kernelspec": {
   "display_name": "base",
   "language": "python",
   "name": "python3"
  },
  "language_info": {
   "codemirror_mode": {
    "name": "ipython",
    "version": 3
   },
   "file_extension": ".py",
   "mimetype": "text/x-python",
   "name": "python",
   "nbconvert_exporter": "python",
   "pygments_lexer": "ipython3",
   "version": "3.11.10"
  }
 },
 "nbformat": 4,
 "nbformat_minor": 2
}
